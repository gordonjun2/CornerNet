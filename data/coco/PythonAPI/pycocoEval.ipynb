{
 "cells": [
  {
   "cell_type": "code",
   "execution_count": 2,
   "metadata": {},
   "outputs": [],
   "source": [
    "%matplotlib inline\n",
    "import matplotlib.pyplot as plt\n",
    "from pycocotools.coco import COCO\n",
    "from pycocotools.cocoeval import COCOeval\n",
    "import numpy as np\n",
    "import skimage.io as io\n",
    "import pylab\n",
    "\n",
    "import os\n",
    "import json\n",
    "import zipfile\n",
    "import cv2\n",
    "import imageio\n",
    "\n",
    "\n",
    "pylab.rcParams['figure.figsize'] = (10.0, 8.0)\n",
    "\n",
    "#img_io = imageio.imread('../images/testdev2017/000000466319.jpg')\n",
    "#plt.imshow(img_io)\n",
    "#plt.show()"
   ]
  },
  {
   "cell_type": "code",
   "execution_count": 13,
   "metadata": {},
   "outputs": [
    {
     "name": "stdout",
     "output_type": "stream",
     "text": [
      "Running demo for *bbox* results.\n",
      "instances\n"
     ]
    }
   ],
   "source": [
    "annType = ['segm','bbox','keypoints']\n",
    "annType = annType[1]      #specify type here\n",
    "prefix = 'person_keypoints' if annType=='keypoints' else 'instances'\n",
    "print('Running demo for *%s* results.'%(annType))\n",
    "print(prefix) # checking"
   ]
  },
  {
   "cell_type": "code",
   "execution_count": 40,
   "metadata": {},
   "outputs": [
    {
     "name": "stdout",
     "output_type": "stream",
     "text": [
      "C:\\Users\\gordo\\Desktop\\CenterNet\\data\\coco\\PythonAPI\n",
      "../annotations/instances_val2017.json\n",
      "{'license': 3, 'file_name': '000000508602.jpg', 'coco_url': 'http://images.cocodataset.org/val2017/000000508602.jpg', 'height': 429, 'width': 500, 'date_captured': '2013-11-15 06:51:06', 'flickr_url': 'http://farm1.staticflickr.com/31/89958837_3946184e5f_z.jpg', 'id': 508602}\n",
      "loading annotations into memory...\n",
      "Done (t=0.57s)\n",
      "creating index...\n",
      "index created!\n"
     ]
    }
   ],
   "source": [
    "#initialize COCO ground truth api\n",
    "print(os.getcwd())\n",
    "dataDir='../'\n",
    "dataType='val2017'\n",
    "annFile = '%sannotations/%s_%s.json'%(dataDir,prefix,dataType)\n",
    "\n",
    "print(annFile) # checking\n",
    "\n",
    "with open(annFile, 'r') as f:\n",
    "    gt = json.load(f)\n",
    "\n",
    "print(gt['images'][999])  # checking\n",
    "\n",
    "cocoGt=COCO(annFile)\n",
    "#print(cocoGt[0]) # checking\n",
    "\n",
    "# load COCO categories\n",
    "cats = cocoGt.loadCats(cocoGt.getCatIds())\n",
    "\n",
    "# get all images containing given categories, select one at random\n",
    "#catIds = cocoGt.getCatIds(catNms=['person'])\n",
    "#imgIds = cocoGt.getImgIds(catIds=catIds)\n",
    "#imgIds = cocoGt.getImgIds(imgIds=[1])\n",
    "#img = cocoGt.loadImgs(imgIds[np.random.randint(0, len(imgIds))])[0]\n",
    "#img\n"
   ]
  },
  {
   "cell_type": "code",
   "execution_count": 27,
   "metadata": {},
   "outputs": [
    {
     "name": "stdout",
     "output_type": "stream",
     "text": [
      "{'image_id': 466319, 'category_id': 1, 'bbox': [199.02, 90.37, 135.19, 336.08], 'score': 0.94}\n",
      "[('person', 0.95, (147.09, 126.52, 326.81, 503.52)), ('person', 0.63, (0.52, 198.63, 38.77, 315.76)), ('skateboard', 0.69, (237.94, 93.35, 24.51, 30.33)), ('tennis racket', 0.82, (34.69, 255.2, 212.23, 75.14))]\n",
      "Loading and preparing results...\n",
      "DONE (t=11.42s)\n",
      "creating index...\n",
      "index created!\n"
     ]
    }
   ],
   "source": [
    "#initialize COCO detections api\n",
    "resFile='../results/results.json'\n",
    "with open(resFile, 'r') as f:\n",
    "    results = json.load(f)\n",
    "\n",
    "print(results[0]) # testing\n",
    "classes=[cat['name'] for cat in cats]    \n",
    "    \n",
    "det_count = 0\n",
    "det_list = []\n",
    "for item in results:\n",
    "    if item[\"image_id\"] == 16 and item[\"score\"] >= 0.5:\n",
    "        det_count = det_count + 1\n",
    "        det_list.append((classes[item[\"category_id\"]-1], item[\"score\"], tuple(item[\"bbox\"])))\n",
    "        #print(\"Detection {}. = \".format(det_count) + str((classes[item[\"category_id\"]-1], item[\"score\"], tuple(item[\"bbox\"]))))\n",
    "print(det_list)\n",
    "\n",
    "#resFile = resFile%(dataDir, prefix, dataType, annType)\n",
    "cocoDt=cocoGt.loadRes(resFile)"
   ]
  },
  {
   "cell_type": "code",
   "execution_count": 19,
   "metadata": {},
   "outputs": [],
   "source": [
    "imgIds = sorted(cocoGt.getImgIds())\n",
    "imgIds = imgIds[0:100]\n",
    "imgId = imgIds[np.random.randint(100)]\n",
    "\n",
    "#imgIds = cocoGt.getImgIds(imgIds = [466319])\n",
    "#img = cocoGt.loadImgs(imgIds)\n",
    "#file_name = img[0]['file_name']\n",
    "\n",
    "#print(os.getcwd())\n",
    "#I = io.imread('../images/testdev2017/000000466319.jpg')\n",
    "\n",
    "#plt.axis('off')\n",
    "#plt.imshow(I)\n",
    "#plt.show()\n",
    "\n",
    "\n",
    "# load and display instance annotations\n",
    "#annIds = cocoGt.getAnnIds(imgIds=img['id'], catIds=catIds, iscrowd=None)\n",
    "#anns = cocoGt.loadAnns(annIds)\n",
    "#coco.showAnns(anns)\n",
    "\n",
    "#plt.imshow(I)\n",
    "#plt.axis('off')\n",
    "#annIds = cocoGt.getAnnIds(imgIds=img[0]['id'], catIds=catIds, iscrowd=None)\n",
    "#print(annIds)\n",
    "#anns = cocoGt.loadAnns(annIds)\n",
    "#cocoGt.showAnns(anns)"
   ]
  },
  {
   "cell_type": "code",
   "execution_count": 20,
   "metadata": {},
   "outputs": [
    {
     "name": "stdout",
     "output_type": "stream",
     "text": [
      "Running per image evaluation...\n",
      "Evaluate annotation type *bbox*\n",
      "DONE (t=0.63s).\n",
      "Accumulating evaluation results...\n",
      "DONE (t=0.17s).\n",
      " Average Precision  (AP) @[ IoU=0.50:0.95 | area=   all | maxDets=100 ] = -1.000\n",
      " Average Precision  (AP) @[ IoU=0.50      | area=   all | maxDets=100 ] = -1.000\n",
      " Average Precision  (AP) @[ IoU=0.75      | area=   all | maxDets=100 ] = -1.000\n",
      " Average Precision  (AP) @[ IoU=0.50:0.95 | area= small | maxDets=100 ] = -1.000\n",
      " Average Precision  (AP) @[ IoU=0.50:0.95 | area=medium | maxDets=100 ] = -1.000\n",
      " Average Precision  (AP) @[ IoU=0.50:0.95 | area= large | maxDets=100 ] = -1.000\n",
      " Average Recall     (AR) @[ IoU=0.50:0.95 | area=   all | maxDets=  1 ] = -1.000\n",
      " Average Recall     (AR) @[ IoU=0.50:0.95 | area=   all | maxDets= 10 ] = -1.000\n",
      " Average Recall     (AR) @[ IoU=0.50:0.95 | area=   all | maxDets=100 ] = -1.000\n",
      " Average Recall     (AR) @[ IoU=0.50:0.95 | area= small | maxDets=100 ] = -1.000\n",
      " Average Recall     (AR) @[ IoU=0.50:0.95 | area=medium | maxDets=100 ] = -1.000\n",
      " Average Recall     (AR) @[ IoU=0.50:0.95 | area= large | maxDets=100 ] = -1.000\n"
     ]
    }
   ],
   "source": [
    "# running evaluation\n",
    "cocoEval = COCOeval(cocoGt, cocoDt, annType)\n",
    "cocoEval.params.imgIds = imgIds\n",
    "cocoEval.evaluate()\n",
    "cocoEval.accumulate()\n",
    "cocoEval.summarize()"
   ]
  },
  {
   "cell_type": "code",
   "execution_count": 61,
   "metadata": {},
   "outputs": [
    {
     "name": "stdout",
     "output_type": "stream",
     "text": [
      "None\n"
     ]
    }
   ],
   "source": []
  },
  {
   "cell_type": "code",
   "execution_count": null,
   "metadata": {},
   "outputs": [],
   "source": []
  }
 ],
 "metadata": {
  "kernelspec": {
   "display_name": "Python 3",
   "language": "python",
   "name": "python3"
  },
  "language_info": {
   "codemirror_mode": {
    "name": "ipython",
    "version": 3
   },
   "file_extension": ".py",
   "mimetype": "text/x-python",
   "name": "python",
   "nbconvert_exporter": "python",
   "pygments_lexer": "ipython3",
   "version": "3.7.3"
  }
 },
 "nbformat": 4,
 "nbformat_minor": 1
}
